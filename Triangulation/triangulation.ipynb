{
  "cells": [
    {
      "cell_type": "code",
      "execution_count": 27,
      "metadata": {
        "id": "AVM2svCNeDv3"
      },
      "outputs": [],
      "source": [
        "# import the necessary packages\n",
        "from imutils import paths\n",
        "import numpy as np\n",
        "import imutils\n",
        "import cv2\n",
        "def find_marker(image):\n",
        "\t# convert the image to grayscale, blur it, and detect edges\n",
        "\tgray = cv2.cvtColor(image, cv2.COLOR_BGR2GRAY)\n",
        "\tgray = cv2.GaussianBlur(gray, (5, 5), 0)\n",
        "\tedged = cv2.Canny(gray, 35, 125)\n",
        "\t# find the contours in the edged image and keep the largest one;\n",
        "\t# we'll assume that this is our piece of paper in the image\n",
        "\tcnts = cv2.findContours(edged.copy(), cv2.RETR_LIST, cv2.CHAIN_APPROX_SIMPLE)\n",
        "\tcnts = imutils.grab_contours(cnts)\n",
        "\tc = max(cnts, key = cv2.contourArea)\n",
        "\t# compute the bounding box of the of the paper region and return it\n",
        "\treturn cv2.minAreaRect(c)"
      ]
    },
    {
      "cell_type": "code",
      "execution_count": 28,
      "metadata": {
        "id": "9POoxBMGrlcP"
      },
      "outputs": [],
      "source": [
        "def distance_to_camera(knownWidth, focalLength, perWidth):\n",
        "\t# compute and return the distance from the maker to the camera\n",
        "\treturn (knownWidth * focalLength) / perWidth"
      ]
    },
    {
      "cell_type": "code",
      "execution_count": 29,
      "metadata": {
        "id": "TmYo0vMErpD6"
      },
      "outputs": [],
      "source": [
        "# initialize the known distance from the camera to the object, which\n",
        "# in this case is 25 cm\n",
        "KNOWN_DISTANCE = 10 # in inches\n",
        "# initialize the known object width, which in this case, the piece of\n",
        "# paper is 12 inches wide\n",
        "KNOWN_WIDTH = 1.6\n",
        "# we load the first image that contains an object that is KNOWN TO BE 25 cm\n",
        "# from our camera, then find the marker in the image, and initialize\n",
        "# the focal length\n",
        "image = cv2.imread(\"./images/toast_-20_25.png\")\n",
        "marker = find_marker(image)\n",
        "focalLength = (marker[1][0] * KNOWN_DISTANCE ) /(KNOWN_WIDTH)"
      ]
    },
    {
      "cell_type": "code",
      "execution_count": 30,
      "metadata": {
        "colab": {
          "base_uri": "https://localhost:8080/"
        },
        "id": "zZXY_5ZNDNbi",
        "outputId": "f23acdda-971d-4839-a019-b619a15453c7"
      },
      "outputs": [
        {
          "name": "stdout",
          "output_type": "stream",
          "text": [
            "84.14570617675781\n"
          ]
        }
      ],
      "source": [
        "# Area of marker\n",
        "print(marker[1][0])"
      ]
    },
    {
      "cell_type": "code",
      "execution_count": 34,
      "metadata": {
        "colab": {
          "base_uri": "https://localhost:8080/"
        },
        "id": "syvNykHTrsNJ",
        "outputId": "1b94ec50-8b18-4f92-ecc8-ffb90269870e"
      },
      "outputs": [
        {
          "data": {
            "text/plain": [
              "array([[[ 72,  60,  68],\n",
              "        [ 71,  66,  73],\n",
              "        [ 70,  67,  72],\n",
              "        ...,\n",
              "        [ 66,  67,  68],\n",
              "        [ 73,  75,  68],\n",
              "        [ 63,  64,  62]],\n",
              "\n",
              "       [[ 72,  70,  72],\n",
              "        [ 72,  73,  74],\n",
              "        [ 72,  70,  71],\n",
              "        ...,\n",
              "        [ 71,  70,  70],\n",
              "        [ 73,  73,  74],\n",
              "        [ 73,  70,  73]],\n",
              "\n",
              "       [[ 70,  70,  71],\n",
              "        [ 70,  72,  72],\n",
              "        [ 70,  71,  70],\n",
              "        ...,\n",
              "        [ 71,  70,  69],\n",
              "        [ 70,  71,  69],\n",
              "        [ 74,  70,  69]],\n",
              "\n",
              "       ...,\n",
              "\n",
              "       [[ 96,  95,  96],\n",
              "        [ 99,  98,  97],\n",
              "        [ 96,  97,  96],\n",
              "        ...,\n",
              "        [ 95,  96,  97],\n",
              "        [ 96,  96,  96],\n",
              "        [ 96,  97,  97]],\n",
              "\n",
              "       [[ 97,  96,  94],\n",
              "        [ 96,  98,  97],\n",
              "        [ 98,  97,  96],\n",
              "        ...,\n",
              "        [ 96,  95,  94],\n",
              "        [ 99,  97, 100],\n",
              "        [ 99,  99,  95]],\n",
              "\n",
              "       [[ 95,  96,  94],\n",
              "        [ 96,  96,  91],\n",
              "        [ 97,  96,  93],\n",
              "        ...,\n",
              "        [ 94,  96,  94],\n",
              "        [101, 100, 100],\n",
              "        [ 95,  93,  85]]], dtype=uint8)"
            ]
          },
          "execution_count": 34,
          "metadata": {},
          "output_type": "execute_result"
        }
      ],
      "source": [
        "# loop over the images\n",
        "\n",
        "# for filename in os.listdir(directory):\n",
        "image = cv2.imread(\"./images/toast_-20_25.png\")\n",
        "marker=find_marker(image)\n",
        "  # marker = find_marker(image)\n",
        "ref_inches = distance_to_camera(KNOWN_WIDTH, focalLength, marker[1][0])\n",
        "\t# draw a bounding box around the image and display it\n",
        "box = cv2.cv.BoxPoints(marker) if imutils.is_cv2() else cv2.boxPoints(marker)\n",
        "box = np.int0(box)\n",
        "cv2.drawContours(image, [box], -1, (0, 255, 0), 2)\n",
        "cv2.putText(image, \"%.2f cm\" % (ref_inches *2.5),\n",
        "\t\t(image.shape[1] - 200, image.shape[0] - 20), cv2.FONT_HERSHEY_SIMPLEX,\n",
        "\t\t2.0, (0, 255, 0), 3)"
      ]
    },
    {
      "cell_type": "code",
      "execution_count": 35,
      "metadata": {},
      "outputs": [],
      "source": [
        "image = cv2.resize(image, (800,400))\n",
        "cv2.imshow('img',image)\n",
        "cv2.waitKey(0)\n",
        "cv2.destroyAllWindows()"
      ]
    },
    {
      "cell_type": "code",
      "execution_count": 48,
      "metadata": {},
      "outputs": [
        {
          "name": "stdout",
          "output_type": "stream",
          "text": [
            "25.0cm\n"
          ]
        }
      ],
      "source": [
        "print(f\"{ref_inches*2.5}cm\")"
      ]
    },
    {
      "attachments": {},
      "cell_type": "markdown",
      "metadata": {},
      "source": [
        "##### Above cell shows the depth of the reference image."
      ]
    },
    {
      "cell_type": "code",
      "execution_count": 36,
      "metadata": {},
      "outputs": [
        {
          "data": {
            "text/plain": [
              "array([[[72, 59, 68],\n",
              "        [71, 66, 73],\n",
              "        [70, 67, 72],\n",
              "        ...,\n",
              "        [66, 67, 68],\n",
              "        [73, 75, 67],\n",
              "        [63, 64, 61]],\n",
              "\n",
              "       [[72, 70, 72],\n",
              "        [72, 73, 74],\n",
              "        [72, 70, 71],\n",
              "        ...,\n",
              "        [71, 70, 70],\n",
              "        [73, 73, 74],\n",
              "        [73, 70, 73]],\n",
              "\n",
              "       [[70, 70, 71],\n",
              "        [70, 72, 72],\n",
              "        [70, 71, 70],\n",
              "        ...,\n",
              "        [71, 70, 69],\n",
              "        [70, 71, 69],\n",
              "        [74, 70, 69]],\n",
              "\n",
              "       ...,\n",
              "\n",
              "       [[67, 71, 73],\n",
              "        [72, 72, 71],\n",
              "        [71, 71, 71],\n",
              "        ...,\n",
              "        [70, 71, 72],\n",
              "        [71, 71, 71],\n",
              "        [68, 70, 70]],\n",
              "\n",
              "       [[70, 70, 71],\n",
              "        [69, 70, 71],\n",
              "        [71, 71, 70],\n",
              "        ...,\n",
              "        [71, 69, 70],\n",
              "        [71, 69, 69],\n",
              "        [72, 75, 69]],\n",
              "\n",
              "       [[67, 70, 71],\n",
              "        [70, 70, 73],\n",
              "        [70, 71, 71],\n",
              "        ...,\n",
              "        [70, 70, 70],\n",
              "        [70, 66, 72],\n",
              "        [70, 70, 70]]], dtype=uint8)"
            ]
          },
          "execution_count": 36,
          "metadata": {},
          "output_type": "execute_result"
        }
      ],
      "source": [
        "# for filename in os.listdir(directory):\n",
        "image2 = cv2.imread(\"./images/toast_-20_37.png\")\n",
        "marker=find_marker(image2)\n",
        "\n",
        "inches = distance_to_camera(KNOWN_WIDTH, focalLength, marker[1][0])\n",
        "\n",
        "box = cv2.cv.BoxPoints(marker) if imutils.is_cv2() else cv2.boxPoints(marker)\n",
        "box = np.int0(box)\n",
        "cv2.drawContours(image2, [box], -1, (0, 255, 0), 2)\n",
        "cv2.putText(image2, \"%.2f cm\" % (inches *2.5),\n",
        "\t\t(image2.shape[1] - 200, image2.shape[0] - 20), cv2.FONT_HERSHEY_SIMPLEX,\n",
        "\t\t2.0, (0, 255, 0), 3)"
      ]
    },
    {
      "cell_type": "code",
      "execution_count": 39,
      "metadata": {},
      "outputs": [],
      "source": [
        "image2 = cv2.resize(image2,(600,400))\n",
        "cv2.imshow('img',image2)\n",
        "cv2.waitKey(0)\n",
        "cv2.destroyAllWindows()"
      ]
    },
    {
      "cell_type": "code",
      "execution_count": 46,
      "metadata": {},
      "outputs": [
        {
          "name": "stdout",
          "output_type": "stream",
          "text": [
            "36.728394239476216cm\n"
          ]
        }
      ],
      "source": [
        "print(f'{inches*2.5}cm')"
      ]
    },
    {
      "attachments": {},
      "cell_type": "markdown",
      "metadata": {},
      "source": [
        "#### As can be seen above the estimated depth of the new image is 36.73cm which is closer to 37cm (original depth)."
      ]
    }
  ],
  "metadata": {
    "colab": {
      "provenance": []
    },
    "kernelspec": {
      "display_name": "Python 3",
      "language": "python",
      "name": "python3"
    },
    "language_info": {
      "codemirror_mode": {
        "name": "ipython",
        "version": 3
      },
      "file_extension": ".py",
      "mimetype": "text/x-python",
      "name": "python",
      "nbconvert_exporter": "python",
      "pygments_lexer": "ipython3",
      "version": "3.10.2"
    },
    "vscode": {
      "interpreter": {
        "hash": "369f2c481f4da34e4445cda3fffd2e751bd1c4d706f27375911949ba6bb62e1c"
      }
    }
  },
  "nbformat": 4,
  "nbformat_minor": 0
}
