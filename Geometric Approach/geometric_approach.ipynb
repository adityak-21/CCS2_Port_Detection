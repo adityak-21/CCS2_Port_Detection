{
 "cells": [
  {
   "cell_type": "code",
   "execution_count": 1,
   "metadata": {},
   "outputs": [],
   "source": [
    "## Importing Required Libraries\n",
    "import cv2\n",
    "import numpy as np\n",
    "from matplotlib import pyplot as plt"
   ]
  },
  {
   "cell_type": "code",
   "execution_count": 14,
   "metadata": {},
   "outputs": [],
   "source": [
    "## Loading the image\n",
    "img = cv2.imread(\"./images/toast_15.png\")\n",
    "img = cv2.resize(img, (200,250))"
   ]
  },
  {
   "cell_type": "code",
   "execution_count": 15,
   "metadata": {},
   "outputs": [],
   "source": [
    "## Marking the center\n",
    "img = cv2.circle(img,(100,125),1,(0,255,0),2)"
   ]
  },
  {
   "cell_type": "code",
   "execution_count": 16,
   "metadata": {},
   "outputs": [],
   "source": [
    "## Canny edge filter\n",
    "\n",
    "def auto_canny(image, sigma=0.33):\n",
    "\tv = np.median(image)\n",
    "\tlower = int(max(0, (1.0 - sigma) * v))\n",
    "\tupper = int(min(255, (1.0 + sigma) * v))\n",
    "\tedged = cv2.Canny(image, lower, upper)\n",
    "\n",
    "\treturn edged"
   ]
  },
  {
   "cell_type": "code",
   "execution_count": 17,
   "metadata": {},
   "outputs": [],
   "source": [
    "## Image preprocessing and contouring\n",
    "\n",
    "gray = cv2.cvtColor(img, cv2.COLOR_BGR2GRAY)\n",
    "gray = cv2.GaussianBlur(gray, (5, 5), 0)\n",
    "otsu_threshold, image_result = cv2.threshold(\n",
    "    gray, 0, 255, cv2.THRESH_BINARY + cv2.THRESH_OTSU,\n",
    ")\n",
    "edges = auto_canny(image_result,0.5)\n",
    "cnts = cv2.findContours(edges.copy(), cv2.RETR_EXTERNAL, cv2.CHAIN_APPROX_SIMPLE)"
   ]
  },
  {
   "cell_type": "code",
   "execution_count": 18,
   "metadata": {},
   "outputs": [
    {
     "name": "stdout",
     "output_type": "stream",
     "text": [
      "56 76\n",
      "136 74\n",
      "116 106\n",
      "94 76\n",
      "80 110\n",
      "116 48\n",
      "80 48\n",
      "66 186\n"
     ]
    }
   ],
   "source": [
    "## Detecting the Circles and storing their centers in an array\n",
    "\n",
    "lines = []\n",
    "count = 0\n",
    "detected_circles = cv2.HoughCircles(edges, \n",
    "                   cv2.HOUGH_GRADIENT, 1, 20, param1 = 45,\n",
    "               param2 = 18, minRadius = 3, maxRadius = 25)\n",
    "\n",
    "if detected_circles is not None:\n",
    "  \n",
    "    detected_circles = np.uint16(np.around(detected_circles))\n",
    "  \n",
    "    for pt in detected_circles[0, :]:\n",
    "        a, b, r = pt[0], pt[1], pt[2]\n",
    "  \n",
    "        cv2.circle(img, (a, b), r, (0, 255, 0), 2)\n",
    "        print(a,b)\n",
    "        if(count == 7):\n",
    "            break\n",
    "        count +=1\n",
    "        lines.append((pt[0],pt[1]))\n",
    "\n",
    "        cv2.circle(img, (a, b), 1, (0, 0, 255), 3)\n",
    "        cv2.imshow(\"Detected Circle\", img)\n",
    "        cv2.waitKey(0)\n",
    "        cv2.destroyAllWindows()"
   ]
  },
  {
   "cell_type": "code",
   "execution_count": 19,
   "metadata": {},
   "outputs": [
    {
     "data": {
      "text/plain": [
       "array([[116,  48],\n",
       "       [ 80,  48],\n",
       "       [136,  74],\n",
       "       [ 56,  76],\n",
       "       [ 94,  76],\n",
       "       [116, 106],\n",
       "       [ 80, 110]], dtype=uint16)"
      ]
     },
     "execution_count": 19,
     "metadata": {},
     "output_type": "execute_result"
    }
   ],
   "source": [
    "## Arranging the points in ascending order\n",
    "\n",
    "lines = np.array(lines)\n",
    "points = lines.reshape((-1, 1, 2))\n",
    "sortedArr = lines[lines[:,1].argsort()]\n",
    "sortedArr"
   ]
  },
  {
   "cell_type": "code",
   "execution_count": 51,
   "metadata": {},
   "outputs": [],
   "source": [
    "xt = sortedArr[0][0]\n",
    "yt = sortedArr[0][1]\n",
    "xt2 = sortedArr[1][0]\n",
    "yt2 = sortedArr[1][1]\n",
    "xb = sortedArr[5][0]\n",
    "yb = sortedArr[5][1]\n",
    "xb2 = sortedArr[6][0]\n",
    "yb2 = sortedArr[6][1]\n",
    "xm = sortedArr[2][0]\n",
    "ym = sortedArr[2][1]\n",
    "xm2 = sortedArr[4][0]\n",
    "ym2 = sortedArr[4][1]\n",
    "xc = sortedArr[3][0]\n",
    "yc = sortedArr[3][1]\n",
    "\n",
    "def distance(x1,x2,y1,y2):\n",
    "    dist = np.sqrt(np.square(x2-x1) + np.square(y2-y1))\n",
    "    return dist"
   ]
  },
  {
   "cell_type": "code",
   "execution_count": 55,
   "metadata": {},
   "outputs": [],
   "source": [
    "def orientation(xt=0,yt=0,xt2=0,yt2=0,xb=0,yb=0,xb2=0,yb2=0,xm=0,ym=0,xm2=0,ym2=0,xc=0,yc=0):\n",
    "\n",
    "    # From a reference image\n",
    "    l0 = 37\n",
    "    l02 = 86\n",
    "    d0 = 56\n",
    "    l1 = 0\n",
    "    l2 = 0\n",
    "    o1 = 0\n",
    "    o2 = 0\n",
    "    d1 = 0\n",
    "    d2 = 0\n",
    "\n",
    "    if xt != 0 and xt2 !=0:\n",
    "        l1 = distance(xt,xt2,yt,yt2)\n",
    "\n",
    "    if xb != 0 and xb2 !=0:\n",
    "        l2 = distance(xb,xb2,yb,yb2)\n",
    "\n",
    "    # For finding the orientation\n",
    "    o1 = distance(xt,xm,yt,ym)\n",
    "    o2 = distance(xt2,xm2,yt2,ym2)\n",
    "\n",
    "    o3 = distance(xm,xb,ym,yb)\n",
    "    o4 = distance(xm2,xb2,ym2,yb2)\n",
    "\n",
    "    oleft = (o1+o3)/2\n",
    "    oright = (o2+o4)/2\n",
    "\n",
    "    if xt !=0 and xb !=0:\n",
    "        d1 = distance(xt,xb,yt,yb)\n",
    "    if xt2!= 0 and xb2!=0:\n",
    "        d2 = distance(xt2,xb2,yt2,yb2)\n",
    "        \n",
    "    lf = (l1+l2)/2\n",
    "    df = (d1+d2)/2\n",
    "    \n",
    "    ## For Finding the angle\n",
    "    hor = np.arccos(lf/l0)\n",
    "    vert = np.arccos(d0/df)\n",
    "\n",
    "    if(oleft<oright):\n",
    "        hor = -hor\n",
    "    if(l1>l2):\n",
    "        vert = -vert        \n",
    "\n",
    "    return hor , vert"
   ]
  },
  {
   "cell_type": "code",
   "execution_count": 56,
   "metadata": {},
   "outputs": [
    {
     "name": "stdout",
     "output_type": "stream",
     "text": [
      "Horizontal rad:0.2330221256367575, Vertical rad:0.26337341611683224\n",
      "Horizontal = 13.351184332153426, Vertical = 15.090185179437302\n"
     ]
    },
    {
     "name": "stderr",
     "output_type": "stream",
     "text": [
      "C:\\Users\\emaad\\AppData\\Local\\Temp\\ipykernel_19812\\4072747429.py:17: RuntimeWarning: overflow encountered in ushort_scalars\n",
      "  dist = np.sqrt(np.square(x2-x1) + np.square(y2-y1))\n"
     ]
    }
   ],
   "source": [
    "a , b = orientation(xt,yt,xt2,yt2,xb,yb,xb2,yb,xm,ym,xm2,ym2)\n",
    "print(f\"Horizontal rad:{a}, Vertical rad:{b}\")\n",
    "print(f\"Horizontal = {a*(180/np.pi)}, Vertical = {b*(180/np.pi)}\")"
   ]
  },
  {
   "attachments": {},
   "cell_type": "markdown",
   "metadata": {},
   "source": [
    "##### As 0bserved above we are able to get an angle of 13.3 degrees in horizontal direction which is 2.7 degrees less than the original degrees but we observe vast difference in Vertical angle as original vertical angle is 5 degrees."
   ]
  }
 ],
 "metadata": {
  "kernelspec": {
   "display_name": "Python 3",
   "language": "python",
   "name": "python3"
  },
  "language_info": {
   "codemirror_mode": {
    "name": "ipython",
    "version": 3
   },
   "file_extension": ".py",
   "mimetype": "text/x-python",
   "name": "python",
   "nbconvert_exporter": "python",
   "pygments_lexer": "ipython3",
   "version": "3.10.2"
  },
  "orig_nbformat": 4,
  "vscode": {
   "interpreter": {
    "hash": "369f2c481f4da34e4445cda3fffd2e751bd1c4d706f27375911949ba6bb62e1c"
   }
  }
 },
 "nbformat": 4,
 "nbformat_minor": 2
}
